{
 "cells": [
  {
   "cell_type": "code",
   "execution_count": 10,
   "metadata": {},
   "outputs": [],
   "source": [
    "import matplotlib.pyplot as plt \n",
    "from tqdm import tqdm \n",
    "from glob import glob \n",
    "import os \n",
    "import pandas as pd\n",
    "import numpy as np\n",
    "import cv2"
   ]
  },
  {
   "cell_type": "code",
   "execution_count": null,
   "metadata": {},
   "outputs": [],
   "source": []
  },
  {
   "cell_type": "code",
   "execution_count": 62,
   "metadata": {},
   "outputs": [
    {
     "data": {
      "text/plain": [
       "Unnamed: 0             17.500000\n",
       "ssim_fake               0.798940\n",
       "cw-ssim_fake            0.914130\n",
       "ssim_baseframe          0.761882\n",
       "cw-ssim_baseframe       0.899817\n",
       "noise_target            0.024036\n",
       "noise_fake              0.006908\n",
       "noise_baseframe         0.028304\n",
       "blur_target           935.756635\n",
       "blur_fake             300.383753\n",
       "blur_baseframe       1573.709608\n",
       "dtype: float64"
      ]
     },
     "execution_count": 62,
     "metadata": {},
     "output_type": "execute_result"
    }
   ],
   "source": [
    "filename = \"pretrained2x_mae_Pflow_warping_256_all\"\n",
    "sub = \"test_dataset_per_sequence0000/sep_trainlist_2x\"\n",
    "\n",
    "\n",
    "filepath = filename + \"/\" + sub + \"/eval.csv\"\n",
    "df_warping_a = pd.read_csv(filepath)\n",
    "\n",
    "df_warping_a.mean()"
   ]
  },
  {
   "cell_type": "code",
   "execution_count": 41,
   "metadata": {},
   "outputs": [
    {
     "data": {
      "text/plain": [
       "Unnamed: 0              9.000000\n",
       "ssim_fake               0.778767\n",
       "cw-ssim_fake            0.891556\n",
       "ssim_baseframe          0.763689\n",
       "cw-ssim_baseframe       0.888626\n",
       "noise_target            0.032775\n",
       "noise_fake              0.022053\n",
       "noise_baseframe         0.034676\n",
       "blur_target          1603.030196\n",
       "blur_fake             937.340470\n",
       "blur_baseframe       1613.509800\n",
       "dtype: float64"
      ]
     },
     "execution_count": 41,
     "metadata": {},
     "output_type": "execute_result"
    }
   ],
   "source": [
    "filename = \"pretrained2x_mae_Pflow_warping_256\"\n",
    "sub = \"test_dataset_per_sequence/sep_trainlist_2x\"\n",
    "\n",
    "\n",
    "filepath = filename + \"/\" + sub + \"/eval.csv\"\n",
    "df_warping = pd.read_csv(filepath)\n",
    "\n",
    "df_warping.mean()"
   ]
  },
  {
   "cell_type": "code",
   "execution_count": 12,
   "metadata": {},
   "outputs": [],
   "source": [
    "# df.iloc[:,1:].plot()"
   ]
  },
  {
   "cell_type": "code",
   "execution_count": 13,
   "metadata": {},
   "outputs": [],
   "source": [
    "# df[[\"noise_target\", \"noise_fake\", \"noise_baseframe\"]].plot()"
   ]
  },
  {
   "cell_type": "code",
   "execution_count": 14,
   "metadata": {},
   "outputs": [],
   "source": [
    "# df[[\"noise_target\", \"noise_fake\", \"noise_baseframe\"]].mean()"
   ]
  },
  {
   "cell_type": "code",
   "execution_count": 15,
   "metadata": {},
   "outputs": [],
   "source": [
    "# df[[\"ssim_fake\", \"ssim_baseframe\"]].plot()"
   ]
  },
  {
   "cell_type": "code",
   "execution_count": 16,
   "metadata": {},
   "outputs": [],
   "source": [
    "# df[[\"cw-ssim_fake\", \"cw-ssim_baseframe\"]].plot()"
   ]
  },
  {
   "cell_type": "code",
   "execution_count": null,
   "metadata": {},
   "outputs": [],
   "source": []
  },
  {
   "cell_type": "code",
   "execution_count": 42,
   "metadata": {},
   "outputs": [
    {
     "data": {
      "text/plain": [
       "Unnamed: 0              9.000000\n",
       "ssim_fake               0.767077\n",
       "cw-ssim_fake            0.883905\n",
       "ssim_baseframe          0.763689\n",
       "cw-ssim_baseframe       0.888626\n",
       "noise_target            0.032775\n",
       "noise_fake              0.015696\n",
       "noise_baseframe         0.034676\n",
       "blur_target          1603.030196\n",
       "blur_fake             762.346340\n",
       "blur_baseframe       1613.509800\n",
       "dtype: float64"
      ]
     },
     "execution_count": 42,
     "metadata": {},
     "output_type": "execute_result"
    }
   ],
   "source": [
    "filename = \"pretrained2x_mae_Pflow_256\"\n",
    "sub = \"test_dataset_per_sequence/sep_trainlist_2x\"\n",
    "filepath = filename + \"/\" + sub + \"/eval.csv\"\n",
    "df = pd.read_csv(filepath)\n",
    "df.mean()"
   ]
  },
  {
   "cell_type": "code",
   "execution_count": 43,
   "metadata": {},
   "outputs": [
    {
     "data": {
      "text/plain": [
       "Unnamed: 0              9.000000\n",
       "ssim_fake               0.752345\n",
       "cw-ssim_fake            0.882758\n",
       "ssim_baseframe          0.763689\n",
       "cw-ssim_baseframe       0.888626\n",
       "noise_target            0.032775\n",
       "noise_fake              0.017485\n",
       "noise_baseframe         0.034676\n",
       "blur_target          1603.030196\n",
       "blur_fake             790.134528\n",
       "blur_baseframe       1613.509800\n",
       "dtype: float64"
      ]
     },
     "execution_count": 43,
     "metadata": {},
     "output_type": "execute_result"
    }
   ],
   "source": [
    "filename = \"pretrained2x_mae_Pflow_blur3_256\"\n",
    "sub = \"test_dataset_per_sequence/sep_trainlist_2x\"\n",
    "filepath = filename + \"/\" + sub + \"/eval.csv\"\n",
    "df_blur3 = pd.read_csv(filepath)\n",
    "df_blur3.mean()"
   ]
  },
  {
   "cell_type": "code",
   "execution_count": 63,
   "metadata": {},
   "outputs": [
    {
     "data": {
      "text/plain": [
       "Unnamed: 0             17.500000\n",
       "ssim_fake               0.590074\n",
       "cw-ssim_fake            0.816389\n",
       "ssim_baseframe          0.640734\n",
       "cw-ssim_baseframe       0.834511\n",
       "noise_target            0.024036\n",
       "noise_fake              0.006453\n",
       "noise_baseframe         0.035841\n",
       "blur_target           935.756635\n",
       "blur_fake             231.072463\n",
       "blur_baseframe       1969.284493\n",
       "dtype: float64"
      ]
     },
     "execution_count": 63,
     "metadata": {},
     "output_type": "execute_result"
    }
   ],
   "source": [
    "filename = \"pretrained2x_mae_Pflow_blur3_256_all\"\n",
    "sub = \"test_dataset_per_sequence0000/sep_trainlist_2x\"\n",
    "filepath = filename + \"/\" + sub + \"/eval.csv\"\n",
    "df_blur3_a = pd.read_csv(filepath)\n",
    "df_blur3_a.mean()"
   ]
  },
  {
   "cell_type": "code",
   "execution_count": 59,
   "metadata": {},
   "outputs": [
    {
     "data": {
      "text/plain": [
       "Unnamed: 0             17.500000\n",
       "ssim_fake               0.482069\n",
       "cw-ssim_fake            0.768308\n",
       "ssim_baseframe          0.640734\n",
       "cw-ssim_baseframe       0.834511\n",
       "noise_target            0.024036\n",
       "noise_fake              0.006060\n",
       "noise_baseframe         0.035841\n",
       "blur_target           935.756635\n",
       "blur_fake             138.653058\n",
       "blur_baseframe       1969.284493\n",
       "dtype: float64"
      ]
     },
     "execution_count": 59,
     "metadata": {},
     "output_type": "execute_result"
    }
   ],
   "source": [
    "filename = \"pretrained2x_mae_Pflow_patch96_256_all\"\n",
    "sub = \"test_dataset_per_sequence0000/sep_trainlist_2x\"\n",
    "filepath = filename + \"/\" + sub + \"/eval.csv\"\n",
    "df_96a = pd.read_csv(filepath)\n",
    "df_96a.mean()"
   ]
  },
  {
   "cell_type": "code",
   "execution_count": 44,
   "metadata": {},
   "outputs": [
    {
     "data": {
      "text/plain": [
       "Unnamed: 0              9.000000\n",
       "ssim_fake               0.761293\n",
       "cw-ssim_fake            0.881925\n",
       "ssim_baseframe          0.763689\n",
       "cw-ssim_baseframe       0.888626\n",
       "noise_target            0.032775\n",
       "noise_fake              0.018533\n",
       "noise_baseframe         0.034676\n",
       "blur_target          1603.030196\n",
       "blur_fake             921.598907\n",
       "blur_baseframe       1613.509800\n",
       "dtype: float64"
      ]
     },
     "execution_count": 44,
     "metadata": {},
     "output_type": "execute_result"
    }
   ],
   "source": [
    "filename = \"pretrained2x_mae_Pflow_patch96_256\"\n",
    "sub = \"test_dataset_per_sequence/sep_trainlist_2x\"\n",
    "filepath = filename + \"/\" + sub + \"/eval.csv\"\n",
    "df_96 = pd.read_csv(filepath)\n",
    "df_96.mean()"
   ]
  },
  {
   "cell_type": "code",
   "execution_count": 60,
   "metadata": {},
   "outputs": [
    {
     "data": {
      "text/plain": [
       "Unnamed: 0             17.500000\n",
       "ssim_fake               0.544848\n",
       "cw-ssim_fake            0.794372\n",
       "ssim_baseframe          0.640734\n",
       "cw-ssim_baseframe       0.834511\n",
       "noise_target            0.024036\n",
       "noise_fake              0.004109\n",
       "noise_baseframe         0.035841\n",
       "blur_target           935.756635\n",
       "blur_fake             170.118498\n",
       "blur_baseframe       1969.284493\n",
       "dtype: float64"
      ]
     },
     "execution_count": 60,
     "metadata": {},
     "output_type": "execute_result"
    }
   ],
   "source": [
    "filename = \"pretrained2x_mae_Pflow_patch32_256_all\"\n",
    "sub = \"test_dataset_per_sequence0000/sep_trainlist_2x\"\n",
    "filepath = filename + \"/\" + sub + \"/eval.csv\"\n",
    "df_32a = pd.read_csv(filepath)\n",
    "df_32a.mean()"
   ]
  },
  {
   "cell_type": "code",
   "execution_count": 45,
   "metadata": {},
   "outputs": [
    {
     "data": {
      "text/plain": [
       "Unnamed: 0              9.000000\n",
       "ssim_fake               0.762392\n",
       "cw-ssim_fake            0.884955\n",
       "ssim_baseframe          0.763689\n",
       "cw-ssim_baseframe       0.888626\n",
       "noise_target            0.032775\n",
       "noise_fake              0.013503\n",
       "noise_baseframe         0.034676\n",
       "blur_target          1603.030196\n",
       "blur_fake             858.125151\n",
       "blur_baseframe       1613.509800\n",
       "dtype: float64"
      ]
     },
     "execution_count": 45,
     "metadata": {},
     "output_type": "execute_result"
    }
   ],
   "source": [
    "filename = \"pretrained2x_mae_Pflow_patch32_256\"\n",
    "sub = \"test_dataset_per_sequence/sep_trainlist_2x\"\n",
    "filepath = filename + \"/\" + sub + \"/eval.csv\"\n",
    "df_32 = pd.read_csv(filepath)\n",
    "df_32.mean()"
   ]
  },
  {
   "cell_type": "code",
   "execution_count": 21,
   "metadata": {},
   "outputs": [
    {
     "data": {
      "text/html": [
       "<div>\n",
       "<style scoped>\n",
       "    .dataframe tbody tr th:only-of-type {\n",
       "        vertical-align: middle;\n",
       "    }\n",
       "\n",
       "    .dataframe tbody tr th {\n",
       "        vertical-align: top;\n",
       "    }\n",
       "\n",
       "    .dataframe thead th {\n",
       "        text-align: right;\n",
       "    }\n",
       "</style>\n",
       "<table border=\"1\" class=\"dataframe\">\n",
       "  <thead>\n",
       "    <tr style=\"text-align: right;\">\n",
       "      <th></th>\n",
       "      <th>Unnamed: 0</th>\n",
       "      <th>ssim_fake</th>\n",
       "      <th>cw-ssim_fake</th>\n",
       "      <th>ssim_baseframe</th>\n",
       "      <th>cw-ssim_baseframe</th>\n",
       "      <th>noise_target</th>\n",
       "      <th>noise_fake</th>\n",
       "      <th>noise_baseframe</th>\n",
       "      <th>blur_target</th>\n",
       "      <th>blur_fake</th>\n",
       "      <th>blur_baseframe</th>\n",
       "    </tr>\n",
       "  </thead>\n",
       "  <tbody>\n",
       "    <tr>\n",
       "      <th>0</th>\n",
       "      <td>0</td>\n",
       "      <td>0.813035</td>\n",
       "      <td>0.926403</td>\n",
       "      <td>0.795589</td>\n",
       "      <td>0.922668</td>\n",
       "      <td>0.024036</td>\n",
       "      <td>0.006442</td>\n",
       "      <td>0.024055</td>\n",
       "      <td>935.756635</td>\n",
       "      <td>377.656284</td>\n",
       "      <td>1150.298678</td>\n",
       "    </tr>\n",
       "    <tr>\n",
       "      <th>1</th>\n",
       "      <td>1</td>\n",
       "      <td>0.925614</td>\n",
       "      <td>0.963618</td>\n",
       "      <td>0.913759</td>\n",
       "      <td>0.959531</td>\n",
       "      <td>0.027813</td>\n",
       "      <td>0.021169</td>\n",
       "      <td>0.030157</td>\n",
       "      <td>2203.342900</td>\n",
       "      <td>1124.028734</td>\n",
       "      <td>2094.199361</td>\n",
       "    </tr>\n",
       "    <tr>\n",
       "      <th>2</th>\n",
       "      <td>2</td>\n",
       "      <td>0.475023</td>\n",
       "      <td>0.742941</td>\n",
       "      <td>0.451181</td>\n",
       "      <td>0.737681</td>\n",
       "      <td>0.026392</td>\n",
       "      <td>0.018403</td>\n",
       "      <td>0.027848</td>\n",
       "      <td>308.083312</td>\n",
       "      <td>145.664537</td>\n",
       "      <td>433.724787</td>\n",
       "    </tr>\n",
       "    <tr>\n",
       "      <th>3</th>\n",
       "      <td>3</td>\n",
       "      <td>0.271573</td>\n",
       "      <td>0.603535</td>\n",
       "      <td>0.254419</td>\n",
       "      <td>0.601876</td>\n",
       "      <td>0.032535</td>\n",
       "      <td>0.020185</td>\n",
       "      <td>0.032642</td>\n",
       "      <td>595.253537</td>\n",
       "      <td>165.414980</td>\n",
       "      <td>599.714113</td>\n",
       "    </tr>\n",
       "    <tr>\n",
       "      <th>4</th>\n",
       "      <td>4</td>\n",
       "      <td>0.220685</td>\n",
       "      <td>0.510658</td>\n",
       "      <td>0.198453</td>\n",
       "      <td>0.509257</td>\n",
       "      <td>0.057199</td>\n",
       "      <td>0.031020</td>\n",
       "      <td>0.060015</td>\n",
       "      <td>667.523784</td>\n",
       "      <td>154.320927</td>\n",
       "      <td>647.260969</td>\n",
       "    </tr>\n",
       "    <tr>\n",
       "      <th>5</th>\n",
       "      <td>5</td>\n",
       "      <td>0.566258</td>\n",
       "      <td>0.810793</td>\n",
       "      <td>0.524022</td>\n",
       "      <td>0.800386</td>\n",
       "      <td>0.033904</td>\n",
       "      <td>0.018176</td>\n",
       "      <td>0.035370</td>\n",
       "      <td>652.462021</td>\n",
       "      <td>163.571154</td>\n",
       "      <td>577.110683</td>\n",
       "    </tr>\n",
       "    <tr>\n",
       "      <th>6</th>\n",
       "      <td>6</td>\n",
       "      <td>0.675859</td>\n",
       "      <td>0.868416</td>\n",
       "      <td>0.645806</td>\n",
       "      <td>0.862083</td>\n",
       "      <td>0.051945</td>\n",
       "      <td>0.035684</td>\n",
       "      <td>0.052138</td>\n",
       "      <td>1058.966215</td>\n",
       "      <td>352.722910</td>\n",
       "      <td>889.827410</td>\n",
       "    </tr>\n",
       "    <tr>\n",
       "      <th>7</th>\n",
       "      <td>7</td>\n",
       "      <td>0.780370</td>\n",
       "      <td>0.900288</td>\n",
       "      <td>0.755551</td>\n",
       "      <td>0.895168</td>\n",
       "      <td>0.041874</td>\n",
       "      <td>0.028482</td>\n",
       "      <td>0.044525</td>\n",
       "      <td>522.241683</td>\n",
       "      <td>234.556783</td>\n",
       "      <td>655.378304</td>\n",
       "    </tr>\n",
       "    <tr>\n",
       "      <th>8</th>\n",
       "      <td>8</td>\n",
       "      <td>0.952083</td>\n",
       "      <td>0.985620</td>\n",
       "      <td>0.948681</td>\n",
       "      <td>0.984970</td>\n",
       "      <td>0.034475</td>\n",
       "      <td>0.030880</td>\n",
       "      <td>0.035029</td>\n",
       "      <td>2319.298329</td>\n",
       "      <td>1984.936428</td>\n",
       "      <td>2251.574578</td>\n",
       "    </tr>\n",
       "    <tr>\n",
       "      <th>9</th>\n",
       "      <td>9</td>\n",
       "      <td>0.884287</td>\n",
       "      <td>0.963002</td>\n",
       "      <td>0.873350</td>\n",
       "      <td>0.961237</td>\n",
       "      <td>0.031610</td>\n",
       "      <td>0.026894</td>\n",
       "      <td>0.032252</td>\n",
       "      <td>2728.577680</td>\n",
       "      <td>1664.556530</td>\n",
       "      <td>2240.661930</td>\n",
       "    </tr>\n",
       "    <tr>\n",
       "      <th>10</th>\n",
       "      <td>10</td>\n",
       "      <td>0.885754</td>\n",
       "      <td>0.947429</td>\n",
       "      <td>0.903582</td>\n",
       "      <td>0.958173</td>\n",
       "      <td>0.032080</td>\n",
       "      <td>0.021258</td>\n",
       "      <td>0.033577</td>\n",
       "      <td>2469.680084</td>\n",
       "      <td>1310.897863</td>\n",
       "      <td>2415.784159</td>\n",
       "    </tr>\n",
       "    <tr>\n",
       "      <th>11</th>\n",
       "      <td>11</td>\n",
       "      <td>0.964998</td>\n",
       "      <td>0.990349</td>\n",
       "      <td>0.962437</td>\n",
       "      <td>0.989274</td>\n",
       "      <td>0.026265</td>\n",
       "      <td>0.020408</td>\n",
       "      <td>0.026622</td>\n",
       "      <td>2235.814511</td>\n",
       "      <td>1701.151849</td>\n",
       "      <td>2317.401442</td>\n",
       "    </tr>\n",
       "    <tr>\n",
       "      <th>12</th>\n",
       "      <td>12</td>\n",
       "      <td>0.866946</td>\n",
       "      <td>0.947249</td>\n",
       "      <td>0.848740</td>\n",
       "      <td>0.943899</td>\n",
       "      <td>0.030078</td>\n",
       "      <td>0.022549</td>\n",
       "      <td>0.030174</td>\n",
       "      <td>2280.775217</td>\n",
       "      <td>1450.328631</td>\n",
       "      <td>2222.537760</td>\n",
       "    </tr>\n",
       "    <tr>\n",
       "      <th>13</th>\n",
       "      <td>13</td>\n",
       "      <td>0.946700</td>\n",
       "      <td>0.977928</td>\n",
       "      <td>0.941721</td>\n",
       "      <td>0.976438</td>\n",
       "      <td>0.024237</td>\n",
       "      <td>0.019877</td>\n",
       "      <td>0.025921</td>\n",
       "      <td>1971.692343</td>\n",
       "      <td>1514.751847</td>\n",
       "      <td>2132.285860</td>\n",
       "    </tr>\n",
       "    <tr>\n",
       "      <th>14</th>\n",
       "      <td>14</td>\n",
       "      <td>0.916236</td>\n",
       "      <td>0.968200</td>\n",
       "      <td>0.910192</td>\n",
       "      <td>0.966682</td>\n",
       "      <td>0.023577</td>\n",
       "      <td>0.017586</td>\n",
       "      <td>0.023779</td>\n",
       "      <td>2630.725699</td>\n",
       "      <td>1513.582771</td>\n",
       "      <td>2673.915196</td>\n",
       "    </tr>\n",
       "    <tr>\n",
       "      <th>15</th>\n",
       "      <td>15</td>\n",
       "      <td>0.923349</td>\n",
       "      <td>0.959963</td>\n",
       "      <td>0.911848</td>\n",
       "      <td>0.956320</td>\n",
       "      <td>0.032504</td>\n",
       "      <td>0.023717</td>\n",
       "      <td>0.032637</td>\n",
       "      <td>2130.892604</td>\n",
       "      <td>1510.419939</td>\n",
       "      <td>2024.648522</td>\n",
       "    </tr>\n",
       "    <tr>\n",
       "      <th>16</th>\n",
       "      <td>16</td>\n",
       "      <td>0.941735</td>\n",
       "      <td>0.978878</td>\n",
       "      <td>0.942224</td>\n",
       "      <td>0.979560</td>\n",
       "      <td>0.026421</td>\n",
       "      <td>0.017288</td>\n",
       "      <td>0.026938</td>\n",
       "      <td>1197.779528</td>\n",
       "      <td>548.650985</td>\n",
       "      <td>1015.326324</td>\n",
       "    </tr>\n",
       "    <tr>\n",
       "      <th>17</th>\n",
       "      <td>17</td>\n",
       "      <td>0.874891</td>\n",
       "      <td>0.940054</td>\n",
       "      <td>0.839704</td>\n",
       "      <td>0.928266</td>\n",
       "      <td>0.031590</td>\n",
       "      <td>0.019412</td>\n",
       "      <td>0.045240</td>\n",
       "      <td>2246.688496</td>\n",
       "      <td>1530.262499</td>\n",
       "      <td>2756.985344</td>\n",
       "    </tr>\n",
       "    <tr>\n",
       "      <th>18</th>\n",
       "      <td>18</td>\n",
       "      <td>0.911183</td>\n",
       "      <td>0.954236</td>\n",
       "      <td>0.888835</td>\n",
       "      <td>0.950424</td>\n",
       "      <td>0.034185</td>\n",
       "      <td>0.019575</td>\n",
       "      <td>0.039919</td>\n",
       "      <td>1302.019139</td>\n",
       "      <td>361.993276</td>\n",
       "      <td>1558.050775</td>\n",
       "    </tr>\n",
       "  </tbody>\n",
       "</table>\n",
       "</div>"
      ],
      "text/plain": [
       "    Unnamed: 0  ssim_fake  cw-ssim_fake  ssim_baseframe  cw-ssim_baseframe  \\\n",
       "0            0   0.813035      0.926403        0.795589           0.922668   \n",
       "1            1   0.925614      0.963618        0.913759           0.959531   \n",
       "2            2   0.475023      0.742941        0.451181           0.737681   \n",
       "3            3   0.271573      0.603535        0.254419           0.601876   \n",
       "4            4   0.220685      0.510658        0.198453           0.509257   \n",
       "5            5   0.566258      0.810793        0.524022           0.800386   \n",
       "6            6   0.675859      0.868416        0.645806           0.862083   \n",
       "7            7   0.780370      0.900288        0.755551           0.895168   \n",
       "8            8   0.952083      0.985620        0.948681           0.984970   \n",
       "9            9   0.884287      0.963002        0.873350           0.961237   \n",
       "10          10   0.885754      0.947429        0.903582           0.958173   \n",
       "11          11   0.964998      0.990349        0.962437           0.989274   \n",
       "12          12   0.866946      0.947249        0.848740           0.943899   \n",
       "13          13   0.946700      0.977928        0.941721           0.976438   \n",
       "14          14   0.916236      0.968200        0.910192           0.966682   \n",
       "15          15   0.923349      0.959963        0.911848           0.956320   \n",
       "16          16   0.941735      0.978878        0.942224           0.979560   \n",
       "17          17   0.874891      0.940054        0.839704           0.928266   \n",
       "18          18   0.911183      0.954236        0.888835           0.950424   \n",
       "\n",
       "    noise_target  noise_fake  noise_baseframe  blur_target    blur_fake  \\\n",
       "0       0.024036    0.006442         0.024055   935.756635   377.656284   \n",
       "1       0.027813    0.021169         0.030157  2203.342900  1124.028734   \n",
       "2       0.026392    0.018403         0.027848   308.083312   145.664537   \n",
       "3       0.032535    0.020185         0.032642   595.253537   165.414980   \n",
       "4       0.057199    0.031020         0.060015   667.523784   154.320927   \n",
       "5       0.033904    0.018176         0.035370   652.462021   163.571154   \n",
       "6       0.051945    0.035684         0.052138  1058.966215   352.722910   \n",
       "7       0.041874    0.028482         0.044525   522.241683   234.556783   \n",
       "8       0.034475    0.030880         0.035029  2319.298329  1984.936428   \n",
       "9       0.031610    0.026894         0.032252  2728.577680  1664.556530   \n",
       "10      0.032080    0.021258         0.033577  2469.680084  1310.897863   \n",
       "11      0.026265    0.020408         0.026622  2235.814511  1701.151849   \n",
       "12      0.030078    0.022549         0.030174  2280.775217  1450.328631   \n",
       "13      0.024237    0.019877         0.025921  1971.692343  1514.751847   \n",
       "14      0.023577    0.017586         0.023779  2630.725699  1513.582771   \n",
       "15      0.032504    0.023717         0.032637  2130.892604  1510.419939   \n",
       "16      0.026421    0.017288         0.026938  1197.779528   548.650985   \n",
       "17      0.031590    0.019412         0.045240  2246.688496  1530.262499   \n",
       "18      0.034185    0.019575         0.039919  1302.019139   361.993276   \n",
       "\n",
       "    blur_baseframe  \n",
       "0      1150.298678  \n",
       "1      2094.199361  \n",
       "2       433.724787  \n",
       "3       599.714113  \n",
       "4       647.260969  \n",
       "5       577.110683  \n",
       "6       889.827410  \n",
       "7       655.378304  \n",
       "8      2251.574578  \n",
       "9      2240.661930  \n",
       "10     2415.784159  \n",
       "11     2317.401442  \n",
       "12     2222.537760  \n",
       "13     2132.285860  \n",
       "14     2673.915196  \n",
       "15     2024.648522  \n",
       "16     1015.326324  \n",
       "17     2756.985344  \n",
       "18     1558.050775  "
      ]
     },
     "execution_count": 21,
     "metadata": {},
     "output_type": "execute_result"
    }
   ],
   "source": [
    "df_warping"
   ]
  },
  {
   "cell_type": "code",
   "execution_count": 23,
   "metadata": {},
   "outputs": [],
   "source": [
    "# df_f4.mean()"
   ]
  },
  {
   "cell_type": "code",
   "execution_count": 46,
   "metadata": {},
   "outputs": [
    {
     "data": {
      "text/plain": [
       "Unnamed: 0              9.000000\n",
       "ssim_fake               0.707785\n",
       "cw-ssim_fake            0.860757\n",
       "ssim_baseframe          0.763689\n",
       "cw-ssim_baseframe       0.888626\n",
       "noise_target            0.032775\n",
       "noise_fake              0.017523\n",
       "noise_baseframe         0.034676\n",
       "blur_target          1603.030196\n",
       "blur_fake             575.318899\n",
       "blur_baseframe       1613.509800\n",
       "dtype: float64"
      ]
     },
     "execution_count": 46,
     "metadata": {},
     "output_type": "execute_result"
    }
   ],
   "source": [
    "filename = \"pretrained2x_mse_Pflow_f4_256\"\n",
    "sub = \"test_dataset_per_sequence/sep_trainlist_2x\"\n",
    "filepath = filename + \"/\" + sub + \"/eval.csv\"\n",
    "df_f4 = pd.read_csv(filepath)\n",
    "df_f4.mean()"
   ]
  },
  {
   "cell_type": "code",
   "execution_count": 47,
   "metadata": {},
   "outputs": [
    {
     "data": {
      "text/plain": [
       "Unnamed: 0              9.000000\n",
       "ssim_fake               0.768303\n",
       "cw-ssim_fake            0.889575\n",
       "ssim_baseframe          0.763689\n",
       "cw-ssim_baseframe       0.888626\n",
       "noise_target            0.032775\n",
       "noise_fake              0.019223\n",
       "noise_baseframe         0.034676\n",
       "blur_target          1603.030196\n",
       "blur_fake             225.618666\n",
       "blur_baseframe       1613.509800\n",
       "dtype: float64"
      ]
     },
     "execution_count": 47,
     "metadata": {},
     "output_type": "execute_result"
    }
   ],
   "source": [
    "filename = \"pretrained2x_mse_Pflow_f1_256\"\n",
    "sub = \"test_dataset_per_sequence/sep_trainlist_1x\"\n",
    "filepath = filename + \"/\" + sub + \"/eval.csv\"\n",
    "df_f1 = pd.read_csv(filepath)\n",
    "df_f1.mean()"
   ]
  },
  {
   "cell_type": "code",
   "execution_count": 26,
   "metadata": {},
   "outputs": [
    {
     "data": {
      "text/plain": [
       "Unnamed: 0              9.000000\n",
       "ssim_fake               0.768303\n",
       "cw-ssim_fake            0.889575\n",
       "ssim_baseframe          0.763689\n",
       "cw-ssim_baseframe       0.888626\n",
       "noise_target            0.032775\n",
       "noise_fake              0.019223\n",
       "noise_baseframe         0.034676\n",
       "blur_target          1603.030196\n",
       "blur_fake             225.618666\n",
       "blur_baseframe       1613.509800\n",
       "dtype: float64"
      ]
     },
     "execution_count": 26,
     "metadata": {},
     "output_type": "execute_result"
    }
   ],
   "source": [
    "df_f1.mean()"
   ]
  },
  {
   "cell_type": "code",
   "execution_count": 48,
   "metadata": {},
   "outputs": [
    {
     "data": {
      "text/plain": [
       "Unnamed: 0              9.000000\n",
       "ssim_fake               0.732468\n",
       "cw-ssim_fake            0.867240\n",
       "ssim_baseframe          0.763689\n",
       "cw-ssim_baseframe       0.888626\n",
       "noise_target            0.032775\n",
       "noise_fake              0.029441\n",
       "noise_baseframe         0.034676\n",
       "blur_target          1603.030196\n",
       "blur_fake            1626.642416\n",
       "blur_baseframe       1613.509800\n",
       "dtype: float64"
      ]
     },
     "execution_count": 48,
     "metadata": {},
     "output_type": "execute_result"
    }
   ],
   "source": [
    "filename = \"patchwork_64\"\n",
    "sub = \"test_dataset_per_sequence/sep_trainlist_2x\"\n",
    "filepath = filename + \"/\" + sub + \"/eval.csv\"\n",
    "df_64 = pd.read_csv(filepath)\n",
    "df_64.mean()"
   ]
  },
  {
   "cell_type": "code",
   "execution_count": 49,
   "metadata": {},
   "outputs": [
    {
     "data": {
      "text/plain": [
       "Unnamed: 0              4.000000\n",
       "ssim_fake               0.338497\n",
       "cw-ssim_fake            0.676056\n",
       "ssim_baseframe          0.314392\n",
       "cw-ssim_baseframe       0.670988\n",
       "noise_target            0.024036\n",
       "noise_fake              0.017405\n",
       "noise_baseframe         0.048185\n",
       "blur_target           935.756635\n",
       "blur_fake             272.825022\n",
       "blur_baseframe       2816.883395\n",
       "dtype: float64"
      ]
     },
     "execution_count": 49,
     "metadata": {},
     "output_type": "execute_result"
    }
   ],
   "source": [
    "filename = \"pretrained2x_mse_Pflow_f1_256_all\"\n",
    "sub = \"test_dataset_per_sequence0000/sep_trainlist_1x\"\n",
    "filepath = filename + \"/\" + sub + \"/eval.csv\"\n",
    "df_f1a = pd.read_csv(filepath)\n",
    "df_f1a.mean()"
   ]
  },
  {
   "cell_type": "code",
   "execution_count": 50,
   "metadata": {},
   "outputs": [
    {
     "data": {
      "text/plain": [
       "Unnamed: 0             62.500000\n",
       "ssim_fake               0.305480\n",
       "cw-ssim_fake            0.664854\n",
       "ssim_baseframe          0.423727\n",
       "cw-ssim_baseframe       0.715639\n",
       "noise_target            0.024036\n",
       "noise_fake              0.011770\n",
       "noise_baseframe         0.048664\n",
       "blur_target           935.756635\n",
       "blur_fake             258.051258\n",
       "blur_baseframe       2946.667237\n",
       "dtype: float64"
      ]
     },
     "execution_count": 50,
     "metadata": {},
     "output_type": "execute_result"
    }
   ],
   "source": [
    "filename = \"pretrained2x_mse_Pflow_f4_256_all\"\n",
    "sub = \"test_dataset_per_sequence0000/sep_trainlist_2x\"\n",
    "filepath = filename + \"/\" + sub + \"/eval.csv\"\n",
    "df_f4a = pd.read_csv(filepath)\n",
    "df_f4a.mean()"
   ]
  },
  {
   "cell_type": "code",
   "execution_count": 51,
   "metadata": {},
   "outputs": [
    {
     "data": {
      "text/plain": [
       "Unnamed: 0             17.500000\n",
       "ssim_fake               0.474064\n",
       "cw-ssim_fake            0.757824\n",
       "ssim_baseframe          0.640734\n",
       "cw-ssim_baseframe       0.834511\n",
       "noise_target            0.024036\n",
       "noise_fake             -0.002856\n",
       "noise_baseframe         0.035841\n",
       "blur_target           935.756635\n",
       "blur_fake             266.952064\n",
       "blur_baseframe       1969.284493\n",
       "dtype: float64"
      ]
     },
     "execution_count": 51,
     "metadata": {},
     "output_type": "execute_result"
    }
   ],
   "source": [
    "filename = \"pretrained2x_mae_Pflow_256_all\"\n",
    "sub = \"test_dataset_per_sequence0000/sep_trainlist_2x\"\n",
    "filepath = filename + \"/\" + sub + \"/eval.csv\"\n",
    "dfa = pd.read_csv(filepath)\n",
    "dfa.mean()"
   ]
  },
  {
   "cell_type": "code",
   "execution_count": 31,
   "metadata": {},
   "outputs": [
    {
     "data": {
      "text/plain": [
       "Unnamed: 0              4.000000\n",
       "ssim_fake               0.338497\n",
       "cw-ssim_fake            0.676056\n",
       "ssim_baseframe          0.314392\n",
       "cw-ssim_baseframe       0.670988\n",
       "noise_target            0.024036\n",
       "noise_fake              0.017405\n",
       "noise_baseframe         0.048185\n",
       "blur_target           935.756635\n",
       "blur_fake             272.825022\n",
       "blur_baseframe       2816.883395\n",
       "dtype: float64"
      ]
     },
     "execution_count": 31,
     "metadata": {},
     "output_type": "execute_result"
    }
   ],
   "source": [
    "df_f1a.mean()"
   ]
  },
  {
   "cell_type": "code",
   "execution_count": 61,
   "metadata": {},
   "outputs": [
    {
     "data": {
      "text/html": [
       "<div>\n",
       "<style scoped>\n",
       "    .dataframe tbody tr th:only-of-type {\n",
       "        vertical-align: middle;\n",
       "    }\n",
       "\n",
       "    .dataframe tbody tr th {\n",
       "        vertical-align: top;\n",
       "    }\n",
       "\n",
       "    .dataframe thead th {\n",
       "        text-align: right;\n",
       "    }\n",
       "</style>\n",
       "<table border=\"1\" class=\"dataframe\">\n",
       "  <thead>\n",
       "    <tr style=\"text-align: right;\">\n",
       "      <th></th>\n",
       "      <th>Unnamed: 0</th>\n",
       "      <th>ssim_fake</th>\n",
       "      <th>cw-ssim_fake</th>\n",
       "      <th>ssim_baseframe</th>\n",
       "      <th>cw-ssim_baseframe</th>\n",
       "      <th>noise_target</th>\n",
       "      <th>noise_fake</th>\n",
       "      <th>noise_baseframe</th>\n",
       "      <th>blur_target</th>\n",
       "      <th>blur_fake</th>\n",
       "      <th>blur_baseframe</th>\n",
       "    </tr>\n",
       "  </thead>\n",
       "  <tbody>\n",
       "    <tr>\n",
       "      <th>0</th>\n",
       "      <td>0</td>\n",
       "      <td>0.584105</td>\n",
       "      <td>0.836064</td>\n",
       "      <td>0.795589</td>\n",
       "      <td>0.922668</td>\n",
       "      <td>0.024036</td>\n",
       "      <td>-0.001569</td>\n",
       "      <td>0.024055</td>\n",
       "      <td>935.756635</td>\n",
       "      <td>197.030324</td>\n",
       "      <td>1150.298678</td>\n",
       "    </tr>\n",
       "    <tr>\n",
       "      <th>1</th>\n",
       "      <td>1</td>\n",
       "      <td>0.922751</td>\n",
       "      <td>0.959694</td>\n",
       "      <td>0.913759</td>\n",
       "      <td>0.959531</td>\n",
       "      <td>0.027813</td>\n",
       "      <td>0.018226</td>\n",
       "      <td>0.030157</td>\n",
       "      <td>2203.342900</td>\n",
       "      <td>1383.648458</td>\n",
       "      <td>2094.199361</td>\n",
       "    </tr>\n",
       "    <tr>\n",
       "      <th>2</th>\n",
       "      <td>2</td>\n",
       "      <td>0.404774</td>\n",
       "      <td>0.700870</td>\n",
       "      <td>0.451181</td>\n",
       "      <td>0.737681</td>\n",
       "      <td>0.026392</td>\n",
       "      <td>0.018197</td>\n",
       "      <td>0.027848</td>\n",
       "      <td>308.083312</td>\n",
       "      <td>94.141912</td>\n",
       "      <td>433.724787</td>\n",
       "    </tr>\n",
       "    <tr>\n",
       "      <th>3</th>\n",
       "      <td>3</td>\n",
       "      <td>0.474091</td>\n",
       "      <td>0.700910</td>\n",
       "      <td>0.254419</td>\n",
       "      <td>0.601876</td>\n",
       "      <td>0.032535</td>\n",
       "      <td>-0.002310</td>\n",
       "      <td>0.032642</td>\n",
       "      <td>595.253537</td>\n",
       "      <td>70.390908</td>\n",
       "      <td>599.714113</td>\n",
       "    </tr>\n",
       "    <tr>\n",
       "      <th>4</th>\n",
       "      <td>4</td>\n",
       "      <td>0.290445</td>\n",
       "      <td>0.546357</td>\n",
       "      <td>0.198453</td>\n",
       "      <td>0.509257</td>\n",
       "      <td>0.057199</td>\n",
       "      <td>0.002881</td>\n",
       "      <td>0.060015</td>\n",
       "      <td>667.523784</td>\n",
       "      <td>30.997515</td>\n",
       "      <td>647.260969</td>\n",
       "    </tr>\n",
       "    <tr>\n",
       "      <th>5</th>\n",
       "      <td>5</td>\n",
       "      <td>0.568884</td>\n",
       "      <td>0.735000</td>\n",
       "      <td>0.524022</td>\n",
       "      <td>0.800386</td>\n",
       "      <td>0.033904</td>\n",
       "      <td>-0.005601</td>\n",
       "      <td>0.035370</td>\n",
       "      <td>652.462021</td>\n",
       "      <td>44.600139</td>\n",
       "      <td>577.110683</td>\n",
       "    </tr>\n",
       "    <tr>\n",
       "      <th>6</th>\n",
       "      <td>6</td>\n",
       "      <td>0.751189</td>\n",
       "      <td>0.884960</td>\n",
       "      <td>0.645806</td>\n",
       "      <td>0.862083</td>\n",
       "      <td>0.051945</td>\n",
       "      <td>0.008015</td>\n",
       "      <td>0.052138</td>\n",
       "      <td>1058.966215</td>\n",
       "      <td>110.041434</td>\n",
       "      <td>889.827410</td>\n",
       "    </tr>\n",
       "    <tr>\n",
       "      <th>7</th>\n",
       "      <td>7</td>\n",
       "      <td>0.780148</td>\n",
       "      <td>0.887383</td>\n",
       "      <td>0.755551</td>\n",
       "      <td>0.895168</td>\n",
       "      <td>0.041874</td>\n",
       "      <td>0.010144</td>\n",
       "      <td>0.044525</td>\n",
       "      <td>522.241683</td>\n",
       "      <td>65.274984</td>\n",
       "      <td>655.378304</td>\n",
       "    </tr>\n",
       "    <tr>\n",
       "      <th>8</th>\n",
       "      <td>8</td>\n",
       "      <td>0.803707</td>\n",
       "      <td>0.928628</td>\n",
       "      <td>0.948681</td>\n",
       "      <td>0.984970</td>\n",
       "      <td>0.034475</td>\n",
       "      <td>0.007919</td>\n",
       "      <td>0.035029</td>\n",
       "      <td>2319.298329</td>\n",
       "      <td>918.579010</td>\n",
       "      <td>2251.574578</td>\n",
       "    </tr>\n",
       "    <tr>\n",
       "      <th>9</th>\n",
       "      <td>9</td>\n",
       "      <td>0.885461</td>\n",
       "      <td>0.965664</td>\n",
       "      <td>0.873350</td>\n",
       "      <td>0.961237</td>\n",
       "      <td>0.031610</td>\n",
       "      <td>0.024537</td>\n",
       "      <td>0.032252</td>\n",
       "      <td>2728.577680</td>\n",
       "      <td>1512.900975</td>\n",
       "      <td>2240.661930</td>\n",
       "    </tr>\n",
       "    <tr>\n",
       "      <th>10</th>\n",
       "      <td>10</td>\n",
       "      <td>0.736135</td>\n",
       "      <td>0.859621</td>\n",
       "      <td>0.903582</td>\n",
       "      <td>0.958173</td>\n",
       "      <td>0.032080</td>\n",
       "      <td>0.011637</td>\n",
       "      <td>0.033577</td>\n",
       "      <td>2469.680084</td>\n",
       "      <td>181.356406</td>\n",
       "      <td>2415.784159</td>\n",
       "    </tr>\n",
       "    <tr>\n",
       "      <th>11</th>\n",
       "      <td>11</td>\n",
       "      <td>0.956173</td>\n",
       "      <td>0.986639</td>\n",
       "      <td>0.962437</td>\n",
       "      <td>0.989274</td>\n",
       "      <td>0.026265</td>\n",
       "      <td>0.021363</td>\n",
       "      <td>0.026622</td>\n",
       "      <td>2235.814511</td>\n",
       "      <td>1577.775788</td>\n",
       "      <td>2317.401442</td>\n",
       "    </tr>\n",
       "    <tr>\n",
       "      <th>12</th>\n",
       "      <td>12</td>\n",
       "      <td>0.896321</td>\n",
       "      <td>0.960851</td>\n",
       "      <td>0.848740</td>\n",
       "      <td>0.943899</td>\n",
       "      <td>0.030078</td>\n",
       "      <td>0.017514</td>\n",
       "      <td>0.030174</td>\n",
       "      <td>2280.775217</td>\n",
       "      <td>1510.641895</td>\n",
       "      <td>2222.537760</td>\n",
       "    </tr>\n",
       "    <tr>\n",
       "      <th>13</th>\n",
       "      <td>13</td>\n",
       "      <td>0.931222</td>\n",
       "      <td>0.976856</td>\n",
       "      <td>0.941721</td>\n",
       "      <td>0.976438</td>\n",
       "      <td>0.024237</td>\n",
       "      <td>0.018405</td>\n",
       "      <td>0.025921</td>\n",
       "      <td>1971.692343</td>\n",
       "      <td>1553.260226</td>\n",
       "      <td>2132.285860</td>\n",
       "    </tr>\n",
       "    <tr>\n",
       "      <th>14</th>\n",
       "      <td>14</td>\n",
       "      <td>0.912724</td>\n",
       "      <td>0.971758</td>\n",
       "      <td>0.910192</td>\n",
       "      <td>0.966682</td>\n",
       "      <td>0.023577</td>\n",
       "      <td>0.013122</td>\n",
       "      <td>0.023779</td>\n",
       "      <td>2630.725699</td>\n",
       "      <td>1484.793267</td>\n",
       "      <td>2673.915196</td>\n",
       "    </tr>\n",
       "    <tr>\n",
       "      <th>15</th>\n",
       "      <td>15</td>\n",
       "      <td>0.924677</td>\n",
       "      <td>0.962169</td>\n",
       "      <td>0.911848</td>\n",
       "      <td>0.956320</td>\n",
       "      <td>0.032504</td>\n",
       "      <td>0.022205</td>\n",
       "      <td>0.032637</td>\n",
       "      <td>2130.892604</td>\n",
       "      <td>1677.838666</td>\n",
       "      <td>2024.648522</td>\n",
       "    </tr>\n",
       "    <tr>\n",
       "      <th>16</th>\n",
       "      <td>16</td>\n",
       "      <td>0.924634</td>\n",
       "      <td>0.967387</td>\n",
       "      <td>0.942224</td>\n",
       "      <td>0.979560</td>\n",
       "      <td>0.026421</td>\n",
       "      <td>0.013411</td>\n",
       "      <td>0.026938</td>\n",
       "      <td>1197.779528</td>\n",
       "      <td>680.840618</td>\n",
       "      <td>1015.326324</td>\n",
       "    </tr>\n",
       "    <tr>\n",
       "      <th>17</th>\n",
       "      <td>17</td>\n",
       "      <td>0.904222</td>\n",
       "      <td>0.964860</td>\n",
       "      <td>0.839704</td>\n",
       "      <td>0.928266</td>\n",
       "      <td>0.031590</td>\n",
       "      <td>0.015440</td>\n",
       "      <td>0.045240</td>\n",
       "      <td>2246.688496</td>\n",
       "      <td>1652.487554</td>\n",
       "      <td>2756.985344</td>\n",
       "    </tr>\n",
       "    <tr>\n",
       "      <th>18</th>\n",
       "      <td>18</td>\n",
       "      <td>0.879627</td>\n",
       "      <td>0.918006</td>\n",
       "      <td>0.888835</td>\n",
       "      <td>0.950424</td>\n",
       "      <td>0.034185</td>\n",
       "      <td>0.015996</td>\n",
       "      <td>0.039919</td>\n",
       "      <td>1302.019139</td>\n",
       "      <td>725.898350</td>\n",
       "      <td>1558.050775</td>\n",
       "    </tr>\n",
       "  </tbody>\n",
       "</table>\n",
       "</div>"
      ],
      "text/plain": [
       "    Unnamed: 0  ssim_fake  cw-ssim_fake  ssim_baseframe  cw-ssim_baseframe  \\\n",
       "0            0   0.584105      0.836064        0.795589           0.922668   \n",
       "1            1   0.922751      0.959694        0.913759           0.959531   \n",
       "2            2   0.404774      0.700870        0.451181           0.737681   \n",
       "3            3   0.474091      0.700910        0.254419           0.601876   \n",
       "4            4   0.290445      0.546357        0.198453           0.509257   \n",
       "5            5   0.568884      0.735000        0.524022           0.800386   \n",
       "6            6   0.751189      0.884960        0.645806           0.862083   \n",
       "7            7   0.780148      0.887383        0.755551           0.895168   \n",
       "8            8   0.803707      0.928628        0.948681           0.984970   \n",
       "9            9   0.885461      0.965664        0.873350           0.961237   \n",
       "10          10   0.736135      0.859621        0.903582           0.958173   \n",
       "11          11   0.956173      0.986639        0.962437           0.989274   \n",
       "12          12   0.896321      0.960851        0.848740           0.943899   \n",
       "13          13   0.931222      0.976856        0.941721           0.976438   \n",
       "14          14   0.912724      0.971758        0.910192           0.966682   \n",
       "15          15   0.924677      0.962169        0.911848           0.956320   \n",
       "16          16   0.924634      0.967387        0.942224           0.979560   \n",
       "17          17   0.904222      0.964860        0.839704           0.928266   \n",
       "18          18   0.879627      0.918006        0.888835           0.950424   \n",
       "\n",
       "    noise_target  noise_fake  noise_baseframe  blur_target    blur_fake  \\\n",
       "0       0.024036   -0.001569         0.024055   935.756635   197.030324   \n",
       "1       0.027813    0.018226         0.030157  2203.342900  1383.648458   \n",
       "2       0.026392    0.018197         0.027848   308.083312    94.141912   \n",
       "3       0.032535   -0.002310         0.032642   595.253537    70.390908   \n",
       "4       0.057199    0.002881         0.060015   667.523784    30.997515   \n",
       "5       0.033904   -0.005601         0.035370   652.462021    44.600139   \n",
       "6       0.051945    0.008015         0.052138  1058.966215   110.041434   \n",
       "7       0.041874    0.010144         0.044525   522.241683    65.274984   \n",
       "8       0.034475    0.007919         0.035029  2319.298329   918.579010   \n",
       "9       0.031610    0.024537         0.032252  2728.577680  1512.900975   \n",
       "10      0.032080    0.011637         0.033577  2469.680084   181.356406   \n",
       "11      0.026265    0.021363         0.026622  2235.814511  1577.775788   \n",
       "12      0.030078    0.017514         0.030174  2280.775217  1510.641895   \n",
       "13      0.024237    0.018405         0.025921  1971.692343  1553.260226   \n",
       "14      0.023577    0.013122         0.023779  2630.725699  1484.793267   \n",
       "15      0.032504    0.022205         0.032637  2130.892604  1677.838666   \n",
       "16      0.026421    0.013411         0.026938  1197.779528   680.840618   \n",
       "17      0.031590    0.015440         0.045240  2246.688496  1652.487554   \n",
       "18      0.034185    0.015996         0.039919  1302.019139   725.898350   \n",
       "\n",
       "    blur_baseframe  \n",
       "0      1150.298678  \n",
       "1      2094.199361  \n",
       "2       433.724787  \n",
       "3       599.714113  \n",
       "4       647.260969  \n",
       "5       577.110683  \n",
       "6       889.827410  \n",
       "7       655.378304  \n",
       "8      2251.574578  \n",
       "9      2240.661930  \n",
       "10     2415.784159  \n",
       "11     2317.401442  \n",
       "12     2222.537760  \n",
       "13     2132.285860  \n",
       "14     2673.915196  \n",
       "15     2024.648522  \n",
       "16     1015.326324  \n",
       "17     2756.985344  \n",
       "18     1558.050775  "
      ]
     },
     "execution_count": 61,
     "metadata": {},
     "output_type": "execute_result"
    }
   ],
   "source": [
    "filename = \"pretrained2x_mae_Pflow_f9_256\"\n",
    "sub = \"test_dataset_per_sequence/sep_trainlist_2x\"\n",
    "filepath = filename + \"/\" + sub + \"/eval.csv\"\n",
    "df9 = pd.read_csv(filepath)\n",
    "df9"
   ]
  },
  {
   "cell_type": "code",
   "execution_count": 64,
   "metadata": {},
   "outputs": [
    {
     "data": {
      "text/plain": [
       "Unnamed: 0              9.000000\n",
       "ssim_fake               0.764805\n",
       "cw-ssim_fake            0.879667\n",
       "ssim_baseframe          0.763689\n",
       "cw-ssim_baseframe       0.888626\n",
       "noise_target            0.032775\n",
       "noise_fake              0.012081\n",
       "noise_baseframe         0.034676\n",
       "blur_target          1603.030196\n",
       "blur_fake             814.342023\n",
       "blur_baseframe       1613.509800\n",
       "dtype: float64"
      ]
     },
     "execution_count": 64,
     "metadata": {},
     "output_type": "execute_result"
    }
   ],
   "source": [
    "df9.mean()"
   ]
  },
  {
   "cell_type": "code",
   "execution_count": 54,
   "metadata": {},
   "outputs": [
    {
     "data": {
      "text/plain": [
       "Unnamed: 0             17.500000\n",
       "ssim_fake               0.780167\n",
       "cw-ssim_fake            0.863487\n",
       "ssim_baseframe          0.747665\n",
       "cw-ssim_baseframe       0.878824\n",
       "noise_target            0.016701\n",
       "noise_fake             -0.013518\n",
       "noise_baseframe         0.025800\n",
       "blur_target          1752.660989\n",
       "blur_fake            1241.068198\n",
       "blur_baseframe       1765.847065\n",
       "dtype: float64"
      ]
     },
     "execution_count": 54,
     "metadata": {},
     "output_type": "execute_result"
    }
   ],
   "source": [
    "filename = \"pretrained2x_mae_Pflow_aligned_256_all\"\n",
    "sub = \"test_dataset_per_sequence0000_aligned/sep_trainlist_2x\"\n",
    "filepath = filename + \"/\" + sub + \"/eval.csv\"\n",
    "df_aligned_a = pd.read_csv(filepath)\n",
    "df_aligned_a.mean()"
   ]
  },
  {
   "cell_type": "code",
   "execution_count": 55,
   "metadata": {},
   "outputs": [
    {
     "data": {
      "text/plain": [
       "Unnamed: 0              9.000000\n",
       "ssim_fake               0.776571\n",
       "cw-ssim_fake            0.830915\n",
       "ssim_baseframe          0.826308\n",
       "cw-ssim_baseframe       0.873174\n",
       "noise_target            0.025827\n",
       "noise_fake             -0.000689\n",
       "noise_baseframe         0.029644\n",
       "blur_target          1462.039678\n",
       "blur_fake            1162.131173\n",
       "blur_baseframe       1683.566225\n",
       "dtype: float64"
      ]
     },
     "execution_count": 55,
     "metadata": {},
     "output_type": "execute_result"
    }
   ],
   "source": [
    "filename = \"pretrained2x_mae_Pflow_aligned_256\"\n",
    "sub = \"test_dataset_per_sequence_aligned/sep_trainlist_2x\"\n",
    "filepath = filename + \"/\" + sub + \"/eval.csv\"\n",
    "df_aligned = pd.read_csv(filepath)\n",
    "df_aligned.mean()"
   ]
  },
  {
   "cell_type": "code",
   "execution_count": 56,
   "metadata": {},
   "outputs": [
    {
     "data": {
      "text/plain": [
       "Unnamed: 0              9.000000\n",
       "ssim_fake               0.762161\n",
       "cw-ssim_fake            0.880229\n",
       "ssim_baseframe          0.763689\n",
       "cw-ssim_baseframe       0.888626\n",
       "noise_target            0.032775\n",
       "noise_fake              0.010797\n",
       "noise_baseframe         0.034676\n",
       "blur_target          1603.030196\n",
       "blur_fake             745.372806\n",
       "blur_baseframe       1613.509800\n",
       "dtype: float64"
      ]
     },
     "execution_count": 56,
     "metadata": {},
     "output_type": "execute_result"
    }
   ],
   "source": [
    "filename = \"pretrained2x_mae_Pflow_res_256\"\n",
    "sub = \"test_dataset_per_sequence/sep_trainlist_2x\"\n",
    "filepath = filename + \"/\" + sub + \"/eval.csv\"\n",
    "df_res = pd.read_csv(filepath)\n",
    "df_res.mean()"
   ]
  },
  {
   "cell_type": "code",
   "execution_count": 57,
   "metadata": {},
   "outputs": [
    {
     "data": {
      "text/plain": [
       "Unnamed: 0             17.500000\n",
       "ssim_fake               0.664042\n",
       "cw-ssim_fake            0.855503\n",
       "ssim_baseframe          0.640734\n",
       "cw-ssim_baseframe       0.834511\n",
       "noise_target            0.024036\n",
       "noise_fake              0.010159\n",
       "noise_baseframe         0.035841\n",
       "blur_target           935.756635\n",
       "blur_fake            2228.291893\n",
       "blur_baseframe       1969.284493\n",
       "dtype: float64"
      ]
     },
     "execution_count": 57,
     "metadata": {},
     "output_type": "execute_result"
    }
   ],
   "source": [
    "filename = \"pretrained2x_mae_Pflow_res_256_all\"\n",
    "sub = \"test_dataset_per_sequence0000/sep_trainlist_2x\"\n",
    "filepath = filename + \"/\" + sub + \"/eval.csv\"\n",
    "df_res_a = pd.read_csv(filepath)\n",
    "df_res_a.mean()"
   ]
  },
  {
   "cell_type": "code",
   "execution_count": 38,
   "metadata": {},
   "outputs": [
    {
     "data": {
      "text/plain": [
       "Unnamed: 0              9.000000\n",
       "ssim_fake               0.767077\n",
       "cw-ssim_fake            0.883905\n",
       "ssim_baseframe          0.763689\n",
       "cw-ssim_baseframe       0.888626\n",
       "noise_target            0.032775\n",
       "noise_fake              0.015696\n",
       "noise_baseframe         0.034676\n",
       "blur_target          1603.030196\n",
       "blur_fake             762.346340\n",
       "blur_baseframe       1613.509800\n",
       "dtype: float64"
      ]
     },
     "execution_count": 38,
     "metadata": {},
     "output_type": "execute_result"
    }
   ],
   "source": [
    "df.mean()"
   ]
  },
  {
   "cell_type": "code",
   "execution_count": 40,
   "metadata": {},
   "outputs": [
    {
     "data": {
      "text/plain": [
       "Unnamed: 0             17.500000\n",
       "ssim_fake               0.664042\n",
       "cw-ssim_fake            0.855503\n",
       "ssim_baseframe          0.640734\n",
       "cw-ssim_baseframe       0.834511\n",
       "noise_target            0.024036\n",
       "noise_fake              0.010159\n",
       "noise_baseframe         0.035841\n",
       "blur_target           935.756635\n",
       "blur_fake            2228.291893\n",
       "blur_baseframe       1969.284493\n",
       "dtype: float64"
      ]
     },
     "execution_count": 40,
     "metadata": {},
     "output_type": "execute_result"
    }
   ],
   "source": [
    "df_res_a.mean()"
   ]
  },
  {
   "cell_type": "code",
   "execution_count": null,
   "metadata": {},
   "outputs": [],
   "source": []
  }
 ],
 "metadata": {
  "interpreter": {
   "hash": "31f2aee4e71d21fbe5cf8b01ff0e069b9275f58929596ceb00d14d90e3e16cd6"
  },
  "kernelspec": {
   "display_name": "Python 3",
   "language": "python",
   "name": "python3"
  },
  "language_info": {
   "codemirror_mode": {
    "name": "ipython",
    "version": 3
   },
   "file_extension": ".py",
   "mimetype": "text/x-python",
   "name": "python",
   "nbconvert_exporter": "python",
   "pygments_lexer": "ipython3",
   "version": "3.6.9"
  },
  "orig_nbformat": 4
 },
 "nbformat": 4,
 "nbformat_minor": 2
}
